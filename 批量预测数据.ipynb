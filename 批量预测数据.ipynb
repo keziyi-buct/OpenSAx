{
 "cells": [
  {
   "cell_type": "code",
   "execution_count": 11,
   "id": "de02c2f1-ddd3-4d3c-9f2b-7c1e48d3cb6c",
   "metadata": {},
   "outputs": [],
   "source": [
    "import numpy as np\n",
    "from DataLoad.DataLoad import SetSplit\n",
    "from Preprocessing.Preprocessing import Preprocessing\n",
    "from WaveSelect.WaveSelcet import SpctrumFeatureSelcet\n",
    "from Regression.Rgs import QuantitativeAnalysis\n",
    "from Plot.plot import nirplot_assign\n",
    "from sklearn.model_selection import GridSearchCV\n",
    "import hpelm\n",
    "import pandas as pd \n",
    "from example import SpectralQuantitativeAnalysis"
   ]
  },
  {
   "cell_type": "code",
   "execution_count": 12,
   "id": "659a36f9-a3f9-40a3-b87f-1dbf1afc59a1",
   "metadata": {},
   "outputs": [],
   "source": [
    "def LoadNirtest(type,row):\n",
    "    Nirdata = pd.read_csv('/root/OpenSA4/Data/Rgs/LUCAS.SOIL_corr.csv')\n",
    "    data = Nirdata.values[:15000,:-9]\n",
    "    label = Nirdata.values[:15000, row]\n",
    "    print(data.shape)\n",
    "    print(label.shape)\n",
    "    return data, label"
   ]
  },
  {
   "cell_type": "code",
   "execution_count": 15,
   "id": "f6f19b97-87f2-46c2-b51f-0c0737fd7588",
   "metadata": {},
   "outputs": [
    {
     "name": "stdout",
     "output_type": "stream",
     "text": [
      "(5000, 4199)\n",
      "(5000,)\n",
      "(4000, 4199) (1000, 4199) (4000,) (1000,)\n",
      "最优参数：\n",
      " {'n_components': 32} \n",
      "\n",
      "The RMSE:7.818395396431187 R2:0.712114310342792, MAE:5.1186820853840365 of result!\n",
      "1\n",
      "(5000, 4199)\n",
      "(5000,)\n",
      "(4000, 4199) (1000, 4199) (4000,) (1000,)\n",
      "最优参数：\n",
      " {'n_components': 24} \n",
      "\n",
      "The RMSE:245.40911732589697 R2:0.24549696491565098, MAE:139.32634026466462 of result!\n",
      "2\n",
      "(5000, 4199)\n",
      "(5000,)\n",
      "(4000, 4199) (1000, 4199) (4000,) (1000,)\n",
      "最优参数：\n",
      " {'n_components': 39} \n",
      "\n",
      "The RMSE:48.68326967908661 R2:0.1935394811223058, MAE:20.741032061405363 of result!\n",
      "3\n",
      "(5000, 4199)\n",
      "(5000,)\n",
      "(4000, 4199) (1000, 4199) (4000,) (1000,)\n",
      "最优参数：\n",
      " {'n_components': 34} \n",
      "\n",
      "The RMSE:1.441808472110547 R2:0.7660974763840818, MAE:0.8441269313893627 of result!\n",
      "4\n",
      "(5000, 4199)\n",
      "(5000,)\n",
      "(4000, 4199) (1000, 4199) (4000,) (1000,)\n",
      "最优参数：\n",
      " {'n_components': 39} \n",
      "\n",
      "The RMSE:34.713217170183 R2:0.9000749858955853, MAE:22.62476002980816 of result!\n",
      "5\n",
      "(5000, 4199)\n",
      "(5000,)\n",
      "(4000, 4199) (1000, 4199) (4000,) (1000,)\n",
      "最优参数：\n",
      " {'n_components': 27} \n",
      "\n",
      "The RMSE:23.387558071653515 R2:0.8098242937320479, MAE:13.631116154210842 of result!\n",
      "6\n",
      "(5000, 4199)\n",
      "(5000,)\n",
      "(4000, 4199) (1000, 4199) (4000,) (1000,)\n",
      "最优参数：\n",
      " {'n_components': 39} \n",
      "\n",
      "The RMSE:0.5141948967516702 R2:0.7912859758276312, MAE:0.4003410214716221 of result!\n",
      "7\n",
      "(5000, 4199)\n",
      "(5000,)\n",
      "(4000, 4199) (1000, 4199) (4000,) (1000,)\n",
      "最优参数：\n",
      " {'n_components': 39} \n",
      "\n",
      "The RMSE:0.5210019957382791 R2:0.7962178383749209, MAE:0.40186209847124404 of result!\n",
      "8\n"
     ]
    }
   ],
   "source": [
    "for i in range(1,9):\n",
    "    data2, label2 = LoadNirtest('Rgs',-i)\n",
    "    RMSE, R2, MAE = SpectralQuantitativeAnalysis(data2, label2, \"MMS\", \"None\", \"random\", \"Pls\",700,'relu',7,'MSE','Adam')\n",
    "    print(\"The RMSE:{} R2:{}, MAE:{} of result!\".format(RMSE, R2, MAE))\n",
    "    print(i)"
   ]
  },
  {
   "cell_type": "code",
   "execution_count": null,
   "id": "f89764aa-fa61-41b5-bd01-e3b1a5e3c512",
   "metadata": {},
   "outputs": [
    {
     "name": "stdout",
     "output_type": "stream",
     "text": [
      "(10000, 4199)\n",
      "(10000,)\n",
      "(8000, 4199) (2000, 4199) (8000,) (2000,)\n",
      "最优参数：\n",
      " {'n_components': 38} \n",
      "\n",
      "The RMSE:9.933167950785744 R2:0.6455270297644822, MAE:5.364833142360287 of result!\n",
      "1\n",
      "(10000, 4199)\n",
      "(10000,)\n",
      "(8000, 4199) (2000, 4199) (8000,) (2000,)\n",
      "最优参数：\n",
      " {'n_components': 38} \n",
      "\n",
      "The RMSE:237.9242675773727 R2:0.2578360332049935, MAE:107.45839290442336 of result!\n",
      "2\n",
      "(10000, 4199)\n",
      "(10000,)\n",
      "(8000, 4199) (2000, 4199) (8000,) (2000,)\n",
      "最优参数：\n",
      " {'n_components': 39} \n",
      "\n",
      "The RMSE:38.23516680353325 R2:0.18049395284792802, MAE:19.05646857860185 of result!\n",
      "3\n",
      "(10000, 4199)\n",
      "(10000,)\n",
      "(8000, 4199) (2000, 4199) (8000,) (2000,)\n"
     ]
    }
   ],
   "source": [
    "for i in range(1,9):\n",
    "    data2, label2 = LoadNirtest('Rgs',-i)\n",
    "    RMSE, R2, MAE = SpectralQuantitativeAnalysis(data2, label2, \"MMS\", \"None\", \"random\", \"Pls\",700,'relu',7,'MSE','Adam')\n",
    "    print(\"The RMSE:{} R2:{}, MAE:{} of result!\".format(RMSE, R2, MAE))\n",
    "    print(i)"
   ]
  },
  {
   "cell_type": "code",
   "execution_count": 4,
   "id": "9c9825c3-9cc8-4fde-926e-8473f24c7c63",
   "metadata": {
    "scrolled": true,
    "tags": []
   },
   "outputs": [
    {
     "name": "stdout",
     "output_type": "stream",
     "text": [
      "(10000, 4199)\n",
      "(10000,)\n",
      "(8000, 4199) (2000, 4199) (8000,) (2000,)\n",
      "最优参数：\n",
      " {'n_components': 39} \n",
      "\n",
      "The RMSE:1.6185328168264628 R2:0.8318748586259401, MAE:0.9763626075303594 of result!\n",
      "4\n",
      "(10000, 4199)\n",
      "(10000,)\n",
      "(8000, 4199) (2000, 4199) (8000,) (2000,)\n",
      "最优参数：\n",
      " {'n_components': 39} \n",
      "\n",
      "The RMSE:35.21631046374218 R2:0.810683859448297, MAE:19.565364359669577 of result!\n",
      "5\n",
      "(10000, 4199)\n",
      "(10000,)\n",
      "(8000, 4199) (2000, 4199) (8000,) (2000,)\n",
      "最优参数：\n",
      " {'n_components': 35} \n",
      "\n",
      "The RMSE:29.841255904953567 R2:0.9012966227336514, MAE:18.645146067768096 of result!\n",
      "6\n",
      "(10000, 4199)\n",
      "(10000,)\n",
      "(8000, 4199) (2000, 4199) (8000,) (2000,)\n",
      "最优参数：\n",
      " {'n_components': 39} \n",
      "\n",
      "The RMSE:0.5559238527384709 R2:0.8246210270082919, MAE:0.42999030695729495 of result!\n",
      "7\n",
      "(10000, 4199)\n",
      "(10000,)\n",
      "(8000, 4199) (2000, 4199) (8000,) (2000,)\n",
      "最优参数：\n",
      " {'n_components': 39} \n",
      "\n",
      "The RMSE:0.5703896618350306 R2:0.8351165421753908, MAE:0.43898734829703007 of result!\n",
      "8\n"
     ]
    }
   ],
   "source": [
    "for i in range(4,9):\n",
    "    data2, label2 = LoadNirtest('Rgs',-i)\n",
    "    RMSE, R2, MAE = SpectralQuantitativeAnalysis(data2, label2, \"MMS\", \"None\", \"random\", \"Pls\",700,'relu',7,'MSE','Adam')\n",
    "    print(\"The RMSE:{} R2:{}, MAE:{} of result!\".format(RMSE, R2, MAE))\n",
    "    print(i)"
   ]
  },
  {
   "cell_type": "code",
   "execution_count": 7,
   "id": "0bdd0ffa-e613-4691-9e7d-8924179ab566",
   "metadata": {},
   "outputs": [
    {
     "name": "stdout",
     "output_type": "stream",
     "text": [
      "(15000, 4199)\n",
      "(15000,)\n",
      "(12000, 4199) (3000, 4199) (12000,) (3000,)\n",
      "最优参数：\n",
      " {'n_components': 39} \n",
      "\n",
      "The RMSE:8.417433950832876 R2:0.7131016133813686, MAE:5.141345331852219 of result!\n",
      "1\n",
      "(15000, 4199)\n",
      "(15000,)\n",
      "(12000, 4199) (3000, 4199) (12000,) (3000,)\n",
      "最优参数：\n",
      " {'n_components': 39} \n",
      "\n",
      "The RMSE:182.74979283060955 R2:0.3247468901196897, MAE:98.56143725955148 of result!\n",
      "2\n",
      "(15000, 4199)\n",
      "(15000,)\n",
      "(12000, 4199) (3000, 4199) (12000,) (3000,)\n",
      "最优参数：\n",
      " {'n_components': 39} \n",
      "\n",
      "The RMSE:26.871472037120434 R2:0.22149387020851885, MAE:18.955500120548617 of result!\n",
      "3\n",
      "(15000, 4199)\n",
      "(15000,)\n",
      "(12000, 4199) (3000, 4199) (12000,) (3000,)\n",
      "最优参数：\n",
      " {'n_components': 39} \n",
      "\n",
      "The RMSE:1.4772652095411725 R2:0.8320769918537131, MAE:0.9414528107568564 of result!\n",
      "4\n",
      "(15000, 4199)\n",
      "(15000,)\n",
      "(12000, 4199) (3000, 4199) (12000,) (3000,)\n",
      "最优参数：\n",
      " {'n_components': 39} \n",
      "\n",
      "The RMSE:41.48282499527964 R2:0.8921953835551615, MAE:24.399798816587392 of result!\n",
      "5\n",
      "(15000, 4199)\n",
      "(15000,)\n",
      "(12000, 4199) (3000, 4199) (12000,) (3000,)\n",
      "最优参数：\n",
      " {'n_components': 39} \n",
      "\n",
      "The RMSE:27.919745573222258 R2:0.8979549536883429, MAE:17.152505102933965 of result!\n",
      "6\n",
      "(15000, 4199)\n",
      "(15000,)\n",
      "(12000, 4199) (3000, 4199) (12000,) (3000,)\n",
      "最优参数：\n",
      " {'n_components': 39} \n",
      "\n",
      "The RMSE:0.5625938629805747 R2:0.8227218724545329, MAE:0.4364904373812269 of result!\n",
      "7\n",
      "(15000, 4199)\n",
      "(15000,)\n",
      "(12000, 4199) (3000, 4199) (12000,) (3000,)\n",
      "最优参数：\n",
      " {'n_components': 39} \n",
      "\n",
      "The RMSE:0.5774350882138725 R2:0.8299029863233518, MAE:0.4445246724697433 of result!\n",
      "8\n"
     ]
    }
   ],
   "source": [
    "for i in range(1,9):\n",
    "    data2, label2 = LoadNirtest('Rgs',-i)\n",
    "    RMSE, R2, MAE = SpectralQuantitativeAnalysis(data2, label2, \"MMS\", \"None\", \"random\", \"Pls\",700,'relu',7,'MSE','Adam')\n",
    "    print(\"The RMSE:{} R2:{}, MAE:{} of result!\".format(RMSE, R2, MAE))\n",
    "    print(i)"
   ]
  },
  {
   "cell_type": "code",
   "execution_count": null,
   "id": "9bd68946-98ce-4881-966b-7681460f9ba1",
   "metadata": {},
   "outputs": [
    {
     "name": "stdout",
     "output_type": "stream",
     "text": [
      "(15000, 4199)\n",
      "(15000,)\n",
      "(12000, 4199) (3000, 4199) (12000,) (3000,)\n"
     ]
    }
   ],
   "source": [
    "for i in range(1,9):\n",
    "    data2, label2 = LoadNirtest('Rgs',-i)\n",
    "    RMSE, R2, MAE = SpectralQuantitativeAnalysis(data2, label2, \"MMS\", \"None\", \"random\", \"SVR\",700,'relu',7,'MSE','Adam')\n",
    "    print(\"The RMSE:{} R2:{}, MAE:{} of result!\".format(RMSE, R2, MAE))\n",
    "    print(i)"
   ]
  },
  {
   "cell_type": "code",
   "execution_count": null,
   "id": "bbd4a150-4dc1-48da-aea8-ed3720b2fe6c",
   "metadata": {},
   "outputs": [],
   "source": []
  }
 ],
 "metadata": {
  "kernelspec": {
   "display_name": "Python 3 (ipykernel)",
   "language": "python",
   "name": "python3"
  },
  "language_info": {
   "codemirror_mode": {
    "name": "ipython",
    "version": 3
   },
   "file_extension": ".py",
   "mimetype": "text/x-python",
   "name": "python",
   "nbconvert_exporter": "python",
   "pygments_lexer": "ipython3",
   "version": "3.8.10"
  }
 },
 "nbformat": 4,
 "nbformat_minor": 5
}
