{
 "cells": [
  {
   "cell_type": "code",
   "execution_count": 9,
   "id": "de02c2f1-ddd3-4d3c-9f2b-7c1e48d3cb6c",
   "metadata": {},
   "outputs": [],
   "source": [
    "import numpy as np\n",
    "from DataLoad.DataLoad import SetSplit\n",
    "from Preprocessing.Preprocessing import Preprocessing\n",
    "from WaveSelect.WaveSelcet import SpctrumFeatureSelcet\n",
    "from Regression.Rgs import QuantitativeAnalysis\n",
    "from Plot.plot import nirplot_assign\n",
    "from sklearn.model_selection import GridSearchCV\n",
    "import hpelm\n",
    "import pandas as pd \n",
    "from example import SpectralQuantitativeAnalysis"
   ]
  },
  {
   "cell_type": "code",
   "execution_count": 10,
   "id": "659a36f9-a3f9-40a3-b87f-1dbf1afc59a1",
   "metadata": {},
   "outputs": [],
   "source": [
    "def LoadNirtest(type,row):\n",
    "    Nirdata = pd.read_csv('/root/OpenSA4/Data/Rgs/LUCAS.SOIL_corr.csv')\n",
    "    data = Nirdata.values[:5000,:-9]\n",
    "    label = Nirdata.values[:5000, row]\n",
    "    print(data.shape)\n",
    "    print(label.shape)\n",
    "    return data, label"
   ]
  },
  {
   "cell_type": "code",
   "execution_count": 12,
   "id": "f6f19b97-87f2-46c2-b51f-0c0737fd7588",
   "metadata": {},
   "outputs": [
    {
     "ename": "SyntaxError",
     "evalue": "unexpected EOF while parsing (4038528194.py, line 1)",
     "output_type": "error",
     "traceback": [
      "\u001b[0;36m  Input \u001b[0;32mIn [12]\u001b[0;36m\u001b[0m\n\u001b[0;31m    for i in range(1,9):\u001b[0m\n\u001b[0m                        ^\u001b[0m\n\u001b[0;31mSyntaxError\u001b[0m\u001b[0;31m:\u001b[0m unexpected EOF while parsing\n"
     ]
    }
   ],
   "source": [
    "for i in range(1,9):\n",
    "    data2, label2 = LoadNirtest('Rgs',-i)\n",
    "    RMSE, R2, MAE = SpectralQuantitativeAnalysis(data2, label2, \"MMS\", \"None\", \"random\", \"Pls\",700,'relu',7,'MSE','Adam')\n",
    "    print(\"The RMSE:{} R2:{}, MAE:{} of result!\".format(RMSE, R2, MAE))\n",
    "    print(i)"
   ]
  },
  {
   "cell_type": "code",
   "execution_count": null,
   "id": "f89764aa-fa61-41b5-bd01-e3b1a5e3c512",
   "metadata": {},
   "outputs": [],
   "source": []
  }
 ],
 "metadata": {
  "kernelspec": {
   "display_name": "Python 3 (ipykernel)",
   "language": "python",
   "name": "python3"
  },
  "language_info": {
   "codemirror_mode": {
    "name": "ipython",
    "version": 3
   },
   "file_extension": ".py",
   "mimetype": "text/x-python",
   "name": "python",
   "nbconvert_exporter": "python",
   "pygments_lexer": "ipython3",
   "version": "3.8.10"
  }
 },
 "nbformat": 4,
 "nbformat_minor": 5
}
